{
 "cells": [
  {
   "cell_type": "code",
   "execution_count": 34,
   "metadata": {},
   "outputs": [
    {
     "name": "stdout",
     "output_type": "stream",
     "text": [
      "<re.Match object; span=(172, 199), match='learnbay26thfeb23@gmail.com'>\n",
      "<re.Match object; span=(314, 334), match='Jonathan25@gmail.com'>\n",
      "<re.Match object; span=(397, 413), match='abc@learnbay.com'>\n",
      "<re.Match object; span=(414, 430), match='john123@yahoo.in'>\n",
      "<re.Match object; span=(516, 535), match='xyz-id.12@gmail.com'>\n",
      "<re.Match object; span=(597, 622), match='xyz-id_12@domain.whatever'>\n"
     ]
    }
   ],
   "source": [
    "import re\n",
    "\n",
    "with open('regex_file.txt', 'rt') as fh:\n",
    "    contents = fh.read()\n",
    "    \n",
    "pattern = r\"[a-zA-Z]+[\\w.-]+[@][a-z]{2,}[.][a-z]{2,}\\b\"\n",
    "mat = re.finditer(pattern, contents)\n",
    "\n",
    "for i in mat:\n",
    "    print(i)"
   ]
  },
  {
   "cell_type": "code",
   "execution_count": null,
   "metadata": {},
   "outputs": [],
   "source": []
  }
 ],
 "metadata": {
  "kernelspec": {
   "display_name": "Python 3",
   "language": "python",
   "name": "python3"
  },
  "language_info": {
   "codemirror_mode": {
    "name": "ipython",
    "version": 3
   },
   "file_extension": ".py",
   "mimetype": "text/x-python",
   "name": "python",
   "nbconvert_exporter": "python",
   "pygments_lexer": "ipython3",
   "version": "3.8.3"
  }
 },
 "nbformat": 4,
 "nbformat_minor": 4
}
