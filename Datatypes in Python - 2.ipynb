{
 "cells": [
  {
   "cell_type": "code",
   "execution_count": 1,
   "id": "085a4afc",
   "metadata": {},
   "outputs": [],
   "source": [
    "# Sets"
   ]
  },
  {
   "cell_type": "code",
   "execution_count": 2,
   "id": "fdd634b1",
   "metadata": {},
   "outputs": [],
   "source": [
    "# Set is a collection of unordered unique elements enclosed within {}\n",
    "# Not a sequence\n",
    "# Cannot have duplicates"
   ]
  },
  {
   "cell_type": "code",
   "execution_count": 3,
   "id": "f0249585",
   "metadata": {},
   "outputs": [],
   "source": [
    "s1 = {10, 90.5, 'Python', True, None}"
   ]
  },
  {
   "cell_type": "code",
   "execution_count": 4,
   "id": "2a4e2a44",
   "metadata": {},
   "outputs": [
    {
     "name": "stdout",
     "output_type": "stream",
     "text": [
      "{True, 90.5, 10, 'Python', None}\n"
     ]
    }
   ],
   "source": [
    "print(s1)"
   ]
  },
  {
   "cell_type": "code",
   "execution_count": 5,
   "id": "d4f3ccef",
   "metadata": {},
   "outputs": [
    {
     "name": "stdout",
     "output_type": "stream",
     "text": [
      "<class 'set'>\n"
     ]
    }
   ],
   "source": [
    "print(type(s1))"
   ]
  },
  {
   "cell_type": "code",
   "execution_count": 6,
   "id": "bfe624cf",
   "metadata": {},
   "outputs": [],
   "source": [
    "s2 = {10, 10, 20, 10, 60, 'Hi', 'Hi', 88.5}"
   ]
  },
  {
   "cell_type": "code",
   "execution_count": 7,
   "id": "c002ab14",
   "metadata": {},
   "outputs": [
    {
     "name": "stdout",
     "output_type": "stream",
     "text": [
      "{20, 88.5, 'Hi', 10, 60}\n"
     ]
    }
   ],
   "source": [
    "print(s2)"
   ]
  },
  {
   "cell_type": "code",
   "execution_count": 8,
   "id": "422065f9",
   "metadata": {},
   "outputs": [
    {
     "data": {
      "text/plain": [
       "{10, 20, 60, 88.5, 'Hi'}"
      ]
     },
     "execution_count": 8,
     "metadata": {},
     "output_type": "execute_result"
    }
   ],
   "source": [
    "s2"
   ]
  },
  {
   "cell_type": "code",
   "execution_count": 9,
   "id": "af4211e9",
   "metadata": {},
   "outputs": [
    {
     "name": "stdout",
     "output_type": "stream",
     "text": [
      "{20, 88.5, 'Hi', 10, 60}\n"
     ]
    }
   ],
   "source": [
    "print(s2)"
   ]
  },
  {
   "cell_type": "code",
   "execution_count": 10,
   "id": "bee5beb0",
   "metadata": {},
   "outputs": [
    {
     "data": {
      "text/plain": [
       "5"
      ]
     },
     "execution_count": 10,
     "metadata": {},
     "output_type": "execute_result"
    }
   ],
   "source": [
    "len(s2)"
   ]
  },
  {
   "cell_type": "code",
   "execution_count": 11,
   "id": "99a5ec06",
   "metadata": {},
   "outputs": [
    {
     "ename": "TypeError",
     "evalue": "'set' object is not subscriptable",
     "output_type": "error",
     "traceback": [
      "\u001b[1;31m---------------------------------------------------------------------------\u001b[0m",
      "\u001b[1;31mTypeError\u001b[0m                                 Traceback (most recent call last)",
      "\u001b[1;32m~\\AppData\\Local\\Temp/ipykernel_4876/2344841457.py\u001b[0m in \u001b[0;36m<module>\u001b[1;34m\u001b[0m\n\u001b[1;32m----> 1\u001b[1;33m \u001b[0ms2\u001b[0m\u001b[1;33m[\u001b[0m\u001b[1;36m0\u001b[0m\u001b[1;33m]\u001b[0m\u001b[1;33m\u001b[0m\u001b[1;33m\u001b[0m\u001b[0m\n\u001b[0m",
      "\u001b[1;31mTypeError\u001b[0m: 'set' object is not subscriptable"
     ]
    }
   ],
   "source": [
    "s2[0]"
   ]
  },
  {
   "cell_type": "code",
   "execution_count": 12,
   "id": "7c8f40da",
   "metadata": {},
   "outputs": [],
   "source": [
    "# No indexing in set"
   ]
  },
  {
   "cell_type": "code",
   "execution_count": 13,
   "id": "f5e59662",
   "metadata": {},
   "outputs": [],
   "source": [
    "# Sets are mutable"
   ]
  },
  {
   "cell_type": "code",
   "execution_count": 14,
   "id": "7dd3b87c",
   "metadata": {},
   "outputs": [
    {
     "data": {
      "text/plain": [
       "{10, 20, 60, 88.5, 'Hi'}"
      ]
     },
     "execution_count": 14,
     "metadata": {},
     "output_type": "execute_result"
    }
   ],
   "source": [
    "s2"
   ]
  },
  {
   "cell_type": "code",
   "execution_count": 15,
   "id": "1affabcf",
   "metadata": {},
   "outputs": [
    {
     "data": {
      "text/plain": [
       "1868877489536"
      ]
     },
     "execution_count": 15,
     "metadata": {},
     "output_type": "execute_result"
    }
   ],
   "source": [
    "id(s2)"
   ]
  },
  {
   "cell_type": "code",
   "execution_count": 16,
   "id": "18d14a10",
   "metadata": {},
   "outputs": [],
   "source": [
    "s2.add(100)"
   ]
  },
  {
   "cell_type": "code",
   "execution_count": 17,
   "id": "b44e5c49",
   "metadata": {},
   "outputs": [
    {
     "data": {
      "text/plain": [
       "{10, 100, 20, 60, 88.5, 'Hi'}"
      ]
     },
     "execution_count": 17,
     "metadata": {},
     "output_type": "execute_result"
    }
   ],
   "source": [
    "s2"
   ]
  },
  {
   "cell_type": "code",
   "execution_count": 18,
   "id": "4ffb8d2b",
   "metadata": {},
   "outputs": [
    {
     "data": {
      "text/plain": [
       "1868877489536"
      ]
     },
     "execution_count": 18,
     "metadata": {},
     "output_type": "execute_result"
    }
   ],
   "source": [
    "id(s2)"
   ]
  },
  {
   "cell_type": "code",
   "execution_count": 19,
   "id": "8fa7c145",
   "metadata": {},
   "outputs": [],
   "source": [
    "s3 = {0, True, 1}"
   ]
  },
  {
   "cell_type": "code",
   "execution_count": 20,
   "id": "92440be5",
   "metadata": {},
   "outputs": [
    {
     "data": {
      "text/plain": [
       "{0, True}"
      ]
     },
     "execution_count": 20,
     "metadata": {},
     "output_type": "execute_result"
    }
   ],
   "source": [
    "s3"
   ]
  },
  {
   "cell_type": "code",
   "execution_count": 21,
   "id": "52cc5d01",
   "metadata": {},
   "outputs": [],
   "source": [
    "s4 = {100, 1, 'hi', True, 1, 1}"
   ]
  },
  {
   "cell_type": "code",
   "execution_count": 22,
   "id": "dfe16388",
   "metadata": {},
   "outputs": [
    {
     "data": {
      "text/plain": [
       "{1, 100, 'hi'}"
      ]
     },
     "execution_count": 22,
     "metadata": {},
     "output_type": "execute_result"
    }
   ],
   "source": [
    "s4"
   ]
  },
  {
   "cell_type": "code",
   "execution_count": 23,
   "id": "6f34463a",
   "metadata": {},
   "outputs": [],
   "source": [
    "s5 = {'Python', False, 1, 0, True}"
   ]
  },
  {
   "cell_type": "code",
   "execution_count": 24,
   "id": "75eb274f",
   "metadata": {},
   "outputs": [
    {
     "data": {
      "text/plain": [
       "{1, False, 'Python'}"
      ]
     },
     "execution_count": 24,
     "metadata": {},
     "output_type": "execute_result"
    }
   ],
   "source": [
    "s5"
   ]
  },
  {
   "cell_type": "code",
   "execution_count": 53,
   "id": "34d1b706",
   "metadata": {},
   "outputs": [],
   "source": [
    "# Sets are unordered"
   ]
  },
  {
   "cell_type": "code",
   "execution_count": 26,
   "id": "2ad76092",
   "metadata": {},
   "outputs": [],
   "source": [
    "# Dictionary\n",
    "# a collection of key-value pairs separated by comma and enclosed within {}\n",
    "\n",
    "# {key1:value1, key2:value2, ....}\n",
    "# Unordered"
   ]
  },
  {
   "cell_type": "code",
   "execution_count": 27,
   "id": "f6ac36f2",
   "metadata": {},
   "outputs": [],
   "source": [
    "student1 = {'id': 101, 'name': 'John', 'grade': 'B'}"
   ]
  },
  {
   "cell_type": "code",
   "execution_count": 28,
   "id": "bc78abe2",
   "metadata": {},
   "outputs": [
    {
     "data": {
      "text/plain": [
       "{'id': 101, 'name': 'John', 'grade': 'B'}"
      ]
     },
     "execution_count": 28,
     "metadata": {},
     "output_type": "execute_result"
    }
   ],
   "source": [
    "student1"
   ]
  },
  {
   "cell_type": "code",
   "execution_count": 29,
   "id": "edbea2dd",
   "metadata": {},
   "outputs": [
    {
     "data": {
      "text/plain": [
       "dict"
      ]
     },
     "execution_count": 29,
     "metadata": {},
     "output_type": "execute_result"
    }
   ],
   "source": [
    "type(student1)"
   ]
  },
  {
   "cell_type": "code",
   "execution_count": 30,
   "id": "177f04fa",
   "metadata": {},
   "outputs": [
    {
     "ename": "KeyError",
     "evalue": "0",
     "output_type": "error",
     "traceback": [
      "\u001b[1;31m---------------------------------------------------------------------------\u001b[0m",
      "\u001b[1;31mKeyError\u001b[0m                                  Traceback (most recent call last)",
      "\u001b[1;32m~\\AppData\\Local\\Temp/ipykernel_4876/1100772439.py\u001b[0m in \u001b[0;36m<module>\u001b[1;34m\u001b[0m\n\u001b[1;32m----> 1\u001b[1;33m \u001b[0mstudent1\u001b[0m\u001b[1;33m[\u001b[0m\u001b[1;36m0\u001b[0m\u001b[1;33m]\u001b[0m\u001b[1;33m\u001b[0m\u001b[1;33m\u001b[0m\u001b[0m\n\u001b[0m",
      "\u001b[1;31mKeyError\u001b[0m: 0"
     ]
    }
   ],
   "source": [
    "student1[0]"
   ]
  },
  {
   "cell_type": "code",
   "execution_count": 31,
   "id": "0cdefb3b",
   "metadata": {},
   "outputs": [
    {
     "data": {
      "text/plain": [
       "{'id': 101, 'name': 'John', 'grade': 'B'}"
      ]
     },
     "execution_count": 31,
     "metadata": {},
     "output_type": "execute_result"
    }
   ],
   "source": [
    "student1"
   ]
  },
  {
   "cell_type": "code",
   "execution_count": 32,
   "id": "d38e069b",
   "metadata": {},
   "outputs": [
    {
     "data": {
      "text/plain": [
       "101"
      ]
     },
     "execution_count": 32,
     "metadata": {},
     "output_type": "execute_result"
    }
   ],
   "source": [
    "student1['id']"
   ]
  },
  {
   "cell_type": "code",
   "execution_count": 33,
   "id": "88180fb5",
   "metadata": {},
   "outputs": [
    {
     "data": {
      "text/plain": [
       "'John'"
      ]
     },
     "execution_count": 33,
     "metadata": {},
     "output_type": "execute_result"
    }
   ],
   "source": [
    "student1['name']"
   ]
  },
  {
   "cell_type": "code",
   "execution_count": 34,
   "id": "1bf65dea",
   "metadata": {},
   "outputs": [
    {
     "data": {
      "text/plain": [
       "1868877704896"
      ]
     },
     "execution_count": 34,
     "metadata": {},
     "output_type": "execute_result"
    }
   ],
   "source": [
    "id(student1)"
   ]
  },
  {
   "cell_type": "code",
   "execution_count": 35,
   "id": "2e5aacfb",
   "metadata": {},
   "outputs": [
    {
     "data": {
      "text/plain": [
       "'B'"
      ]
     },
     "execution_count": 35,
     "metadata": {},
     "output_type": "execute_result"
    }
   ],
   "source": [
    "student1['grade']"
   ]
  },
  {
   "cell_type": "code",
   "execution_count": 36,
   "id": "17e40357",
   "metadata": {},
   "outputs": [],
   "source": [
    "student1['grade'] = 'A'"
   ]
  },
  {
   "cell_type": "code",
   "execution_count": 37,
   "id": "5e306003",
   "metadata": {},
   "outputs": [
    {
     "data": {
      "text/plain": [
       "{'id': 101, 'name': 'John', 'grade': 'A'}"
      ]
     },
     "execution_count": 37,
     "metadata": {},
     "output_type": "execute_result"
    }
   ],
   "source": [
    "student1"
   ]
  },
  {
   "cell_type": "code",
   "execution_count": 38,
   "id": "283866e9",
   "metadata": {},
   "outputs": [
    {
     "data": {
      "text/plain": [
       "1868877704896"
      ]
     },
     "execution_count": 38,
     "metadata": {},
     "output_type": "execute_result"
    }
   ],
   "source": [
    "id(student1)"
   ]
  },
  {
   "cell_type": "code",
   "execution_count": 40,
   "id": "1c9d2933",
   "metadata": {},
   "outputs": [],
   "source": [
    "# Dictionaries are Mutable!!"
   ]
  },
  {
   "cell_type": "code",
   "execution_count": 41,
   "id": "04613715",
   "metadata": {},
   "outputs": [],
   "source": [
    "d1 = {1:1, 2:4, 3:9, 4:16, 5:25}"
   ]
  },
  {
   "cell_type": "code",
   "execution_count": 42,
   "id": "55b8795e",
   "metadata": {},
   "outputs": [
    {
     "data": {
      "text/plain": [
       "{1: 1, 2: 4, 3: 9, 4: 16, 5: 25}"
      ]
     },
     "execution_count": 42,
     "metadata": {},
     "output_type": "execute_result"
    }
   ],
   "source": [
    "d1"
   ]
  },
  {
   "cell_type": "code",
   "execution_count": 43,
   "id": "4be2bbb1",
   "metadata": {},
   "outputs": [],
   "source": [
    "d2 = {1:100, 'a': 20}"
   ]
  },
  {
   "cell_type": "code",
   "execution_count": 45,
   "id": "ab26fdf4",
   "metadata": {},
   "outputs": [
    {
     "data": {
      "text/plain": [
       "{1: 100, 'a': 20}"
      ]
     },
     "execution_count": 45,
     "metadata": {},
     "output_type": "execute_result"
    }
   ],
   "source": [
    "d2"
   ]
  },
  {
   "cell_type": "code",
   "execution_count": 46,
   "id": "b1c06630",
   "metadata": {},
   "outputs": [],
   "source": [
    "student2 = {'id': 102, 'name': 'Jill', 'grade': 'C', 'name': 'Carol'}"
   ]
  },
  {
   "cell_type": "code",
   "execution_count": 47,
   "id": "d134f913",
   "metadata": {},
   "outputs": [
    {
     "data": {
      "text/plain": [
       "{'id': 102, 'name': 'Carol', 'grade': 'C'}"
      ]
     },
     "execution_count": 47,
     "metadata": {},
     "output_type": "execute_result"
    }
   ],
   "source": [
    "student2"
   ]
  },
  {
   "cell_type": "code",
   "execution_count": 48,
   "id": "318fdcd8",
   "metadata": {},
   "outputs": [],
   "source": [
    "# Keys are unique in a dictionary"
   ]
  },
  {
   "cell_type": "code",
   "execution_count": 49,
   "id": "47ded563",
   "metadata": {},
   "outputs": [],
   "source": [
    "# Values can be duplicate"
   ]
  },
  {
   "cell_type": "code",
   "execution_count": 50,
   "id": "9bf20b8c",
   "metadata": {},
   "outputs": [],
   "source": [
    "d3 = {'a': 20, 'b': 30, 'c': 20, 'd': 40, 'b': 99}"
   ]
  },
  {
   "cell_type": "code",
   "execution_count": 51,
   "id": "cf65c613",
   "metadata": {},
   "outputs": [
    {
     "data": {
      "text/plain": [
       "{'a': 20, 'b': 99, 'c': 20, 'd': 40}"
      ]
     },
     "execution_count": 51,
     "metadata": {},
     "output_type": "execute_result"
    }
   ],
   "source": [
    "d3"
   ]
  },
  {
   "cell_type": "code",
   "execution_count": 52,
   "id": "48a5f9b4",
   "metadata": {},
   "outputs": [
    {
     "data": {
      "text/plain": [
       "{'a': 20, 'b': 99, 'c': 20, 'd': 40}"
      ]
     },
     "execution_count": 52,
     "metadata": {},
     "output_type": "execute_result"
    }
   ],
   "source": [
    "d3"
   ]
  },
  {
   "cell_type": "code",
   "execution_count": 54,
   "id": "683360dd",
   "metadata": {},
   "outputs": [],
   "source": [
    "l1 = [1,2,3,4]"
   ]
  },
  {
   "cell_type": "code",
   "execution_count": 55,
   "id": "073e010a",
   "metadata": {},
   "outputs": [
    {
     "data": {
      "text/plain": [
       "1868911931712"
      ]
     },
     "execution_count": 55,
     "metadata": {},
     "output_type": "execute_result"
    }
   ],
   "source": [
    "id(l1)"
   ]
  },
  {
   "cell_type": "code",
   "execution_count": 56,
   "id": "aaedb3b0",
   "metadata": {},
   "outputs": [
    {
     "data": {
      "text/plain": [
       "1868796619056"
      ]
     },
     "execution_count": 56,
     "metadata": {},
     "output_type": "execute_result"
    }
   ],
   "source": [
    "id(l1[0])"
   ]
  },
  {
   "cell_type": "code",
   "execution_count": 57,
   "id": "3ad4708a",
   "metadata": {},
   "outputs": [
    {
     "data": {
      "text/plain": [
       "{'a': 20, 'b': 99, 'c': 20, 'd': 40}"
      ]
     },
     "execution_count": 57,
     "metadata": {},
     "output_type": "execute_result"
    }
   ],
   "source": [
    "d3"
   ]
  },
  {
   "cell_type": "code",
   "execution_count": 58,
   "id": "09790fb0",
   "metadata": {},
   "outputs": [
    {
     "data": {
      "text/plain": [
       "1868915116544"
      ]
     },
     "execution_count": 58,
     "metadata": {},
     "output_type": "execute_result"
    }
   ],
   "source": [
    "id(d3)"
   ]
  },
  {
   "cell_type": "code",
   "execution_count": 59,
   "id": "cd96ee51",
   "metadata": {},
   "outputs": [
    {
     "data": {
      "text/plain": [
       "99"
      ]
     },
     "execution_count": 59,
     "metadata": {},
     "output_type": "execute_result"
    }
   ],
   "source": [
    "d3['b']"
   ]
  },
  {
   "cell_type": "code",
   "execution_count": 60,
   "id": "063276ad",
   "metadata": {},
   "outputs": [
    {
     "data": {
      "text/plain": [
       "1868796810672"
      ]
     },
     "execution_count": 60,
     "metadata": {},
     "output_type": "execute_result"
    }
   ],
   "source": [
    "id(d3['b'])"
   ]
  },
  {
   "cell_type": "code",
   "execution_count": 61,
   "id": "72a39781",
   "metadata": {},
   "outputs": [
    {
     "data": {
      "text/plain": [
       "{'a': 20, 'b': 99, 'c': 20, 'd': 40}"
      ]
     },
     "execution_count": 61,
     "metadata": {},
     "output_type": "execute_result"
    }
   ],
   "source": [
    "d3"
   ]
  },
  {
   "cell_type": "code",
   "execution_count": 62,
   "id": "76bf8758",
   "metadata": {},
   "outputs": [
    {
     "data": {
      "text/plain": [
       "dict_keys(['a', 'b', 'c', 'd'])"
      ]
     },
     "execution_count": 62,
     "metadata": {},
     "output_type": "execute_result"
    }
   ],
   "source": [
    "d3.keys()"
   ]
  },
  {
   "cell_type": "code",
   "execution_count": 63,
   "id": "e1f3223f",
   "metadata": {},
   "outputs": [],
   "source": [
    "k = d3.keys()"
   ]
  },
  {
   "cell_type": "code",
   "execution_count": 64,
   "id": "26a673d9",
   "metadata": {},
   "outputs": [
    {
     "data": {
      "text/plain": [
       "dict_keys(['a', 'b', 'c', 'd'])"
      ]
     },
     "execution_count": 64,
     "metadata": {},
     "output_type": "execute_result"
    }
   ],
   "source": [
    "k"
   ]
  },
  {
   "cell_type": "code",
   "execution_count": 65,
   "id": "d9faba31",
   "metadata": {},
   "outputs": [
    {
     "data": {
      "text/plain": [
       "dict_keys"
      ]
     },
     "execution_count": 65,
     "metadata": {},
     "output_type": "execute_result"
    }
   ],
   "source": [
    "type(k)"
   ]
  },
  {
   "cell_type": "code",
   "execution_count": 66,
   "id": "201ba474",
   "metadata": {},
   "outputs": [
    {
     "ename": "TypeError",
     "evalue": "'dict_keys' object is not subscriptable",
     "output_type": "error",
     "traceback": [
      "\u001b[1;31m---------------------------------------------------------------------------\u001b[0m",
      "\u001b[1;31mTypeError\u001b[0m                                 Traceback (most recent call last)",
      "\u001b[1;32m~\\AppData\\Local\\Temp/ipykernel_4876/555111010.py\u001b[0m in \u001b[0;36m<module>\u001b[1;34m\u001b[0m\n\u001b[1;32m----> 1\u001b[1;33m \u001b[0mk\u001b[0m\u001b[1;33m[\u001b[0m\u001b[1;36m1\u001b[0m\u001b[1;33m]\u001b[0m\u001b[1;33m\u001b[0m\u001b[1;33m\u001b[0m\u001b[0m\n\u001b[0m",
      "\u001b[1;31mTypeError\u001b[0m: 'dict_keys' object is not subscriptable"
     ]
    }
   ],
   "source": [
    "k[1]"
   ]
  },
  {
   "cell_type": "code",
   "execution_count": 67,
   "id": "0da24a8c",
   "metadata": {},
   "outputs": [
    {
     "data": {
      "text/plain": [
       "[1, 2, 3, 4]"
      ]
     },
     "execution_count": 67,
     "metadata": {},
     "output_type": "execute_result"
    }
   ],
   "source": [
    "l1"
   ]
  },
  {
   "cell_type": "code",
   "execution_count": 68,
   "id": "55cbbc68",
   "metadata": {},
   "outputs": [
    {
     "data": {
      "text/plain": [
       "(1, 2, 3, 4)"
      ]
     },
     "execution_count": 68,
     "metadata": {},
     "output_type": "execute_result"
    }
   ],
   "source": [
    "tuple(l1)"
   ]
  },
  {
   "cell_type": "code",
   "execution_count": 69,
   "id": "290cc2df",
   "metadata": {},
   "outputs": [
    {
     "data": {
      "text/plain": [
       "[1, 2, 3, 4]"
      ]
     },
     "execution_count": 69,
     "metadata": {},
     "output_type": "execute_result"
    }
   ],
   "source": [
    "l1"
   ]
  },
  {
   "cell_type": "code",
   "execution_count": 70,
   "id": "d8c74b25",
   "metadata": {},
   "outputs": [],
   "source": [
    "t1 = tuple(l1)"
   ]
  },
  {
   "cell_type": "code",
   "execution_count": 71,
   "id": "2f376336",
   "metadata": {},
   "outputs": [
    {
     "data": {
      "text/plain": [
       "tuple"
      ]
     },
     "execution_count": 71,
     "metadata": {},
     "output_type": "execute_result"
    }
   ],
   "source": [
    "type(t1)"
   ]
  },
  {
   "cell_type": "code",
   "execution_count": 72,
   "id": "ffd80ed6",
   "metadata": {},
   "outputs": [],
   "source": [
    "t2 = (10, 20, 'Bye')"
   ]
  },
  {
   "cell_type": "code",
   "execution_count": 73,
   "id": "0bbe8bf7",
   "metadata": {},
   "outputs": [],
   "source": [
    "l2 = list(t2)"
   ]
  },
  {
   "cell_type": "code",
   "execution_count": 74,
   "id": "ef2cbae0",
   "metadata": {},
   "outputs": [
    {
     "data": {
      "text/plain": [
       "[10, 20, 'Bye']"
      ]
     },
     "execution_count": 74,
     "metadata": {},
     "output_type": "execute_result"
    }
   ],
   "source": [
    "l2"
   ]
  },
  {
   "cell_type": "code",
   "execution_count": 75,
   "id": "9aee1c1e",
   "metadata": {},
   "outputs": [
    {
     "data": {
      "text/plain": [
       "list"
      ]
     },
     "execution_count": 75,
     "metadata": {},
     "output_type": "execute_result"
    }
   ],
   "source": [
    "type(l2)"
   ]
  },
  {
   "cell_type": "code",
   "execution_count": 76,
   "id": "030948d2",
   "metadata": {},
   "outputs": [],
   "source": [
    "l2[0] = 100"
   ]
  },
  {
   "cell_type": "code",
   "execution_count": 77,
   "id": "22d193b0",
   "metadata": {},
   "outputs": [
    {
     "data": {
      "text/plain": [
       "[100, 20, 'Bye']"
      ]
     },
     "execution_count": 77,
     "metadata": {},
     "output_type": "execute_result"
    }
   ],
   "source": [
    "l2"
   ]
  },
  {
   "cell_type": "code",
   "execution_count": 78,
   "id": "38cf5bb5",
   "metadata": {},
   "outputs": [
    {
     "data": {
      "text/plain": [
       "{10, 100, 20, 60, 88.5, 'Hi'}"
      ]
     },
     "execution_count": 78,
     "metadata": {},
     "output_type": "execute_result"
    }
   ],
   "source": [
    "s2"
   ]
  },
  {
   "cell_type": "code",
   "execution_count": 79,
   "id": "c5a5a0b5",
   "metadata": {},
   "outputs": [
    {
     "data": {
      "text/plain": [
       "[20, 100, 88.5, 'Hi', 10, 60]"
      ]
     },
     "execution_count": 79,
     "metadata": {},
     "output_type": "execute_result"
    }
   ],
   "source": [
    "list(s2)"
   ]
  },
  {
   "cell_type": "code",
   "execution_count": 80,
   "id": "3f9e6615",
   "metadata": {},
   "outputs": [
    {
     "data": {
      "text/plain": [
       "(20, 100, 88.5, 'Hi', 10, 60)"
      ]
     },
     "execution_count": 80,
     "metadata": {},
     "output_type": "execute_result"
    }
   ],
   "source": [
    "tuple(s2)"
   ]
  },
  {
   "cell_type": "code",
   "execution_count": 81,
   "id": "7b61bab7",
   "metadata": {},
   "outputs": [
    {
     "data": {
      "text/plain": [
       "(10, 20, 'Bye')"
      ]
     },
     "execution_count": 81,
     "metadata": {},
     "output_type": "execute_result"
    }
   ],
   "source": [
    "t2"
   ]
  },
  {
   "cell_type": "code",
   "execution_count": 83,
   "id": "c587b7f5",
   "metadata": {},
   "outputs": [],
   "source": [
    "l3 = [10, 10, 20, 30, 10, 10, 10, 30]"
   ]
  },
  {
   "cell_type": "code",
   "execution_count": 84,
   "id": "967f61d1",
   "metadata": {},
   "outputs": [
    {
     "data": {
      "text/plain": [
       "[10, 10, 20, 30, 10, 10, 10, 30]"
      ]
     },
     "execution_count": 84,
     "metadata": {},
     "output_type": "execute_result"
    }
   ],
   "source": [
    "l3"
   ]
  },
  {
   "cell_type": "code",
   "execution_count": 85,
   "id": "5488a3df",
   "metadata": {},
   "outputs": [],
   "source": [
    "s5 = set(l3)"
   ]
  },
  {
   "cell_type": "code",
   "execution_count": 86,
   "id": "25a946cf",
   "metadata": {},
   "outputs": [
    {
     "data": {
      "text/plain": [
       "{10, 20, 30}"
      ]
     },
     "execution_count": 86,
     "metadata": {},
     "output_type": "execute_result"
    }
   ],
   "source": [
    "s5"
   ]
  },
  {
   "cell_type": "code",
   "execution_count": 87,
   "id": "65ea30b1",
   "metadata": {},
   "outputs": [
    {
     "data": {
      "text/plain": [
       "[10, 10, 20, 30, 10, 10, 10, 30]"
      ]
     },
     "execution_count": 87,
     "metadata": {},
     "output_type": "execute_result"
    }
   ],
   "source": [
    "l3"
   ]
  },
  {
   "cell_type": "code",
   "execution_count": 88,
   "id": "0deb5049",
   "metadata": {},
   "outputs": [
    {
     "data": {
      "text/plain": [
       "dict_keys(['a', 'b', 'c', 'd'])"
      ]
     },
     "execution_count": 88,
     "metadata": {},
     "output_type": "execute_result"
    }
   ],
   "source": [
    "k"
   ]
  },
  {
   "cell_type": "code",
   "execution_count": 89,
   "id": "a00cd7b8",
   "metadata": {},
   "outputs": [
    {
     "ename": "TypeError",
     "evalue": "'dict_keys' object is not subscriptable",
     "output_type": "error",
     "traceback": [
      "\u001b[1;31m---------------------------------------------------------------------------\u001b[0m",
      "\u001b[1;31mTypeError\u001b[0m                                 Traceback (most recent call last)",
      "\u001b[1;32m~\\AppData\\Local\\Temp/ipykernel_4876/44898508.py\u001b[0m in \u001b[0;36m<module>\u001b[1;34m\u001b[0m\n\u001b[1;32m----> 1\u001b[1;33m \u001b[0mk\u001b[0m\u001b[1;33m[\u001b[0m\u001b[1;36m0\u001b[0m\u001b[1;33m]\u001b[0m\u001b[1;33m\u001b[0m\u001b[1;33m\u001b[0m\u001b[0m\n\u001b[0m",
      "\u001b[1;31mTypeError\u001b[0m: 'dict_keys' object is not subscriptable"
     ]
    }
   ],
   "source": [
    "k[0]"
   ]
  },
  {
   "cell_type": "code",
   "execution_count": 90,
   "id": "dc68cc44",
   "metadata": {},
   "outputs": [],
   "source": [
    "l5 = list(k)"
   ]
  },
  {
   "cell_type": "code",
   "execution_count": 91,
   "id": "37e61aad",
   "metadata": {},
   "outputs": [
    {
     "data": {
      "text/plain": [
       "['a', 'b', 'c', 'd']"
      ]
     },
     "execution_count": 91,
     "metadata": {},
     "output_type": "execute_result"
    }
   ],
   "source": [
    "l5"
   ]
  },
  {
   "cell_type": "code",
   "execution_count": 92,
   "id": "251aaf7b",
   "metadata": {},
   "outputs": [
    {
     "data": {
      "text/plain": [
       "'b'"
      ]
     },
     "execution_count": 92,
     "metadata": {},
     "output_type": "execute_result"
    }
   ],
   "source": [
    "l5[1]"
   ]
  },
  {
   "cell_type": "code",
   "execution_count": 93,
   "id": "55d6b7dc",
   "metadata": {},
   "outputs": [
    {
     "data": {
      "text/plain": [
       "1868797449264"
      ]
     },
     "execution_count": 93,
     "metadata": {},
     "output_type": "execute_result"
    }
   ],
   "source": [
    "id(l5[1])"
   ]
  },
  {
   "cell_type": "code",
   "execution_count": 94,
   "id": "fa59b62b",
   "metadata": {},
   "outputs": [
    {
     "data": {
      "text/plain": [
       "dict_keys(['a', 'b', 'c', 'd'])"
      ]
     },
     "execution_count": 94,
     "metadata": {},
     "output_type": "execute_result"
    }
   ],
   "source": [
    "k"
   ]
  },
  {
   "cell_type": "code",
   "execution_count": 95,
   "id": "7cad3bbe",
   "metadata": {},
   "outputs": [
    {
     "data": {
      "text/plain": [
       "{'a': 20, 'b': 99, 'c': 20, 'd': 40}"
      ]
     },
     "execution_count": 95,
     "metadata": {},
     "output_type": "execute_result"
    }
   ],
   "source": [
    "d3"
   ]
  },
  {
   "cell_type": "code",
   "execution_count": 96,
   "id": "39c19019",
   "metadata": {},
   "outputs": [
    {
     "data": {
      "text/plain": [
       "dict_keys(['a', 'b', 'c', 'd'])"
      ]
     },
     "execution_count": 96,
     "metadata": {},
     "output_type": "execute_result"
    }
   ],
   "source": [
    "d3.keys()"
   ]
  },
  {
   "cell_type": "code",
   "execution_count": 97,
   "id": "a098fa9a",
   "metadata": {},
   "outputs": [
    {
     "ename": "TypeError",
     "evalue": "'dict_keys' object is not subscriptable",
     "output_type": "error",
     "traceback": [
      "\u001b[1;31m---------------------------------------------------------------------------\u001b[0m",
      "\u001b[1;31mTypeError\u001b[0m                                 Traceback (most recent call last)",
      "\u001b[1;32m~\\AppData\\Local\\Temp/ipykernel_4876/555111010.py\u001b[0m in \u001b[0;36m<module>\u001b[1;34m\u001b[0m\n\u001b[1;32m----> 1\u001b[1;33m \u001b[0mk\u001b[0m\u001b[1;33m[\u001b[0m\u001b[1;36m1\u001b[0m\u001b[1;33m]\u001b[0m\u001b[1;33m\u001b[0m\u001b[1;33m\u001b[0m\u001b[0m\n\u001b[0m",
      "\u001b[1;31mTypeError\u001b[0m: 'dict_keys' object is not subscriptable"
     ]
    }
   ],
   "source": [
    "k[1]"
   ]
  },
  {
   "cell_type": "code",
   "execution_count": 98,
   "id": "9572c36b",
   "metadata": {},
   "outputs": [],
   "source": [
    "k = d3.keys()"
   ]
  },
  {
   "cell_type": "code",
   "execution_count": 99,
   "id": "f8e372b1",
   "metadata": {},
   "outputs": [
    {
     "data": {
      "text/plain": [
       "dict_keys(['a', 'b', 'c', 'd'])"
      ]
     },
     "execution_count": 99,
     "metadata": {},
     "output_type": "execute_result"
    }
   ],
   "source": [
    "k"
   ]
  },
  {
   "cell_type": "code",
   "execution_count": 100,
   "id": "c1d1dc01",
   "metadata": {},
   "outputs": [],
   "source": [
    "lis1 = [10, 20, 30, 40]"
   ]
  },
  {
   "cell_type": "code",
   "execution_count": 101,
   "id": "6d7613d7",
   "metadata": {},
   "outputs": [
    {
     "data": {
      "text/plain": [
       "30"
      ]
     },
     "execution_count": 101,
     "metadata": {},
     "output_type": "execute_result"
    }
   ],
   "source": [
    "lis1[2]"
   ]
  },
  {
   "cell_type": "code",
   "execution_count": 102,
   "id": "29db61df",
   "metadata": {},
   "outputs": [
    {
     "ename": "TypeError",
     "evalue": "'dict_keys' object is not subscriptable",
     "output_type": "error",
     "traceback": [
      "\u001b[1;31m---------------------------------------------------------------------------\u001b[0m",
      "\u001b[1;31mTypeError\u001b[0m                                 Traceback (most recent call last)",
      "\u001b[1;32m~\\AppData\\Local\\Temp/ipykernel_4876/555111010.py\u001b[0m in \u001b[0;36m<module>\u001b[1;34m\u001b[0m\n\u001b[1;32m----> 1\u001b[1;33m \u001b[0mk\u001b[0m\u001b[1;33m[\u001b[0m\u001b[1;36m1\u001b[0m\u001b[1;33m]\u001b[0m\u001b[1;33m\u001b[0m\u001b[1;33m\u001b[0m\u001b[0m\n\u001b[0m",
      "\u001b[1;31mTypeError\u001b[0m: 'dict_keys' object is not subscriptable"
     ]
    }
   ],
   "source": [
    "k[1]"
   ]
  },
  {
   "cell_type": "code",
   "execution_count": 103,
   "id": "f5226e81",
   "metadata": {},
   "outputs": [],
   "source": [
    "l1 = list(k)"
   ]
  },
  {
   "cell_type": "code",
   "execution_count": 104,
   "id": "c1883a99",
   "metadata": {},
   "outputs": [
    {
     "data": {
      "text/plain": [
       "['a', 'b', 'c', 'd']"
      ]
     },
     "execution_count": 104,
     "metadata": {},
     "output_type": "execute_result"
    }
   ],
   "source": [
    "l1"
   ]
  },
  {
   "cell_type": "code",
   "execution_count": 105,
   "id": "b4ec68ee",
   "metadata": {},
   "outputs": [
    {
     "data": {
      "text/plain": [
       "'b'"
      ]
     },
     "execution_count": 105,
     "metadata": {},
     "output_type": "execute_result"
    }
   ],
   "source": [
    "l1[1]"
   ]
  },
  {
   "cell_type": "code",
   "execution_count": 106,
   "id": "dce84693",
   "metadata": {},
   "outputs": [
    {
     "data": {
      "text/plain": [
       "1868797449264"
      ]
     },
     "execution_count": 106,
     "metadata": {},
     "output_type": "execute_result"
    }
   ],
   "source": [
    "id(l1[1])"
   ]
  },
  {
   "cell_type": "code",
   "execution_count": 107,
   "id": "74947f6a",
   "metadata": {},
   "outputs": [
    {
     "data": {
      "text/plain": [
       "(1, 2, 3, 4)"
      ]
     },
     "execution_count": 107,
     "metadata": {},
     "output_type": "execute_result"
    }
   ],
   "source": [
    "t1"
   ]
  },
  {
   "cell_type": "code",
   "execution_count": 108,
   "id": "ace32bea",
   "metadata": {},
   "outputs": [
    {
     "ename": "TypeError",
     "evalue": "'tuple' object does not support item assignment",
     "output_type": "error",
     "traceback": [
      "\u001b[1;31m---------------------------------------------------------------------------\u001b[0m",
      "\u001b[1;31mTypeError\u001b[0m                                 Traceback (most recent call last)",
      "\u001b[1;32m~\\AppData\\Local\\Temp/ipykernel_4876/3915043008.py\u001b[0m in \u001b[0;36m<module>\u001b[1;34m\u001b[0m\n\u001b[1;32m----> 1\u001b[1;33m \u001b[0mt1\u001b[0m\u001b[1;33m[\u001b[0m\u001b[1;36m0\u001b[0m\u001b[1;33m]\u001b[0m \u001b[1;33m=\u001b[0m \u001b[1;36m10\u001b[0m\u001b[1;33m\u001b[0m\u001b[1;33m\u001b[0m\u001b[0m\n\u001b[0m",
      "\u001b[1;31mTypeError\u001b[0m: 'tuple' object does not support item assignment"
     ]
    }
   ],
   "source": [
    "t1[0] = 10"
   ]
  },
  {
   "cell_type": "code",
   "execution_count": 109,
   "id": "66ee7f7b",
   "metadata": {},
   "outputs": [],
   "source": [
    "l1 = list(t1)"
   ]
  },
  {
   "cell_type": "code",
   "execution_count": 110,
   "id": "f5d595c2",
   "metadata": {},
   "outputs": [
    {
     "data": {
      "text/plain": [
       "[1, 2, 3, 4]"
      ]
     },
     "execution_count": 110,
     "metadata": {},
     "output_type": "execute_result"
    }
   ],
   "source": [
    "l1"
   ]
  },
  {
   "cell_type": "code",
   "execution_count": 111,
   "id": "b2398886",
   "metadata": {},
   "outputs": [],
   "source": [
    "l1[0] = 10"
   ]
  },
  {
   "cell_type": "code",
   "execution_count": 112,
   "id": "33f95b9c",
   "metadata": {},
   "outputs": [
    {
     "data": {
      "text/plain": [
       "[10, 2, 3, 4]"
      ]
     },
     "execution_count": 112,
     "metadata": {},
     "output_type": "execute_result"
    }
   ],
   "source": [
    "l1"
   ]
  },
  {
   "cell_type": "code",
   "execution_count": 113,
   "id": "9fae4cfd",
   "metadata": {},
   "outputs": [],
   "source": [
    "t1 = l1"
   ]
  },
  {
   "cell_type": "code",
   "execution_count": 114,
   "id": "82de7833",
   "metadata": {},
   "outputs": [
    {
     "data": {
      "text/plain": [
       "[10, 2, 3, 4]"
      ]
     },
     "execution_count": 114,
     "metadata": {},
     "output_type": "execute_result"
    }
   ],
   "source": [
    "t1"
   ]
  },
  {
   "cell_type": "code",
   "execution_count": 115,
   "id": "be9b4c12",
   "metadata": {},
   "outputs": [
    {
     "data": {
      "text/plain": [
       "(10, 20, 'Bye')"
      ]
     },
     "execution_count": 115,
     "metadata": {},
     "output_type": "execute_result"
    }
   ],
   "source": [
    "t2"
   ]
  },
  {
   "cell_type": "code",
   "execution_count": 116,
   "id": "724f0eea",
   "metadata": {},
   "outputs": [
    {
     "ename": "TypeError",
     "evalue": "'tuple' object does not support item assignment",
     "output_type": "error",
     "traceback": [
      "\u001b[1;31m---------------------------------------------------------------------------\u001b[0m",
      "\u001b[1;31mTypeError\u001b[0m                                 Traceback (most recent call last)",
      "\u001b[1;32m~\\AppData\\Local\\Temp/ipykernel_4876/719287762.py\u001b[0m in \u001b[0;36m<module>\u001b[1;34m\u001b[0m\n\u001b[1;32m----> 1\u001b[1;33m \u001b[0mt2\u001b[0m\u001b[1;33m[\u001b[0m\u001b[1;36m0\u001b[0m\u001b[1;33m]\u001b[0m \u001b[1;33m=\u001b[0m \u001b[1;36m1\u001b[0m\u001b[1;33m\u001b[0m\u001b[1;33m\u001b[0m\u001b[0m\n\u001b[0m",
      "\u001b[1;31mTypeError\u001b[0m: 'tuple' object does not support item assignment"
     ]
    }
   ],
   "source": [
    "t2[0] = 1"
   ]
  },
  {
   "cell_type": "code",
   "execution_count": 117,
   "id": "f2c70efd",
   "metadata": {},
   "outputs": [],
   "source": [
    "l2 = list(t2)"
   ]
  },
  {
   "cell_type": "code",
   "execution_count": 118,
   "id": "09c25921",
   "metadata": {},
   "outputs": [
    {
     "data": {
      "text/plain": [
       "[10, 20, 'Bye']"
      ]
     },
     "execution_count": 118,
     "metadata": {},
     "output_type": "execute_result"
    }
   ],
   "source": [
    "l2"
   ]
  },
  {
   "cell_type": "code",
   "execution_count": 119,
   "id": "28043378",
   "metadata": {},
   "outputs": [],
   "source": [
    "l2[0] = 1"
   ]
  },
  {
   "cell_type": "code",
   "execution_count": 120,
   "id": "f75f7355",
   "metadata": {},
   "outputs": [
    {
     "data": {
      "text/plain": [
       "[1, 20, 'Bye']"
      ]
     },
     "execution_count": 120,
     "metadata": {},
     "output_type": "execute_result"
    }
   ],
   "source": [
    "l2"
   ]
  },
  {
   "cell_type": "code",
   "execution_count": 121,
   "id": "a0bb46f6",
   "metadata": {},
   "outputs": [],
   "source": [
    "t2 = tuple(l2)"
   ]
  },
  {
   "cell_type": "code",
   "execution_count": 122,
   "id": "c6084f0d",
   "metadata": {},
   "outputs": [
    {
     "data": {
      "text/plain": [
       "(1, 20, 'Bye')"
      ]
     },
     "execution_count": 122,
     "metadata": {},
     "output_type": "execute_result"
    }
   ],
   "source": [
    "t2"
   ]
  },
  {
   "cell_type": "code",
   "execution_count": null,
   "id": "cb614438",
   "metadata": {},
   "outputs": [],
   "source": []
  },
  {
   "cell_type": "code",
   "execution_count": 124,
   "id": "d217e551",
   "metadata": {},
   "outputs": [
    {
     "data": {
      "text/plain": [
       "{'id': 101, 'name': 'John', 'grade': 'A'}"
      ]
     },
     "execution_count": 124,
     "metadata": {},
     "output_type": "execute_result"
    }
   ],
   "source": [
    "student1"
   ]
  },
  {
   "cell_type": "code",
   "execution_count": 125,
   "id": "9255aa80",
   "metadata": {},
   "outputs": [
    {
     "data": {
      "text/plain": [
       "{'id': 102, 'name': 'Carol', 'grade': 'C'}"
      ]
     },
     "execution_count": 125,
     "metadata": {},
     "output_type": "execute_result"
    }
   ],
   "source": [
    "student2"
   ]
  },
  {
   "cell_type": "code",
   "execution_count": 127,
   "id": "844df875",
   "metadata": {},
   "outputs": [
    {
     "data": {
      "text/plain": [
       "{1: 1, 2: 4, 3: 9, 4: 16, 5: 25}"
      ]
     },
     "execution_count": 127,
     "metadata": {},
     "output_type": "execute_result"
    }
   ],
   "source": [
    "d1"
   ]
  },
  {
   "cell_type": "code",
   "execution_count": 128,
   "id": "844f5ea2",
   "metadata": {},
   "outputs": [
    {
     "data": {
      "text/plain": [
       "{1: 100, 'a': 20}"
      ]
     },
     "execution_count": 128,
     "metadata": {},
     "output_type": "execute_result"
    }
   ],
   "source": [
    "d2"
   ]
  },
  {
   "cell_type": "code",
   "execution_count": 129,
   "id": "2d8815e5",
   "metadata": {},
   "outputs": [
    {
     "data": {
      "text/plain": [
       "{'a': 20, 'b': 99, 'c': 20, 'd': 40}"
      ]
     },
     "execution_count": 129,
     "metadata": {},
     "output_type": "execute_result"
    }
   ],
   "source": [
    "d3"
   ]
  },
  {
   "cell_type": "code",
   "execution_count": 130,
   "id": "387dfd9c",
   "metadata": {},
   "outputs": [],
   "source": [
    "d4 = {45.56:45, 100.0:100, 7.4:7}"
   ]
  },
  {
   "cell_type": "code",
   "execution_count": 131,
   "id": "9e703f7b",
   "metadata": {},
   "outputs": [
    {
     "data": {
      "text/plain": [
       "{45.56: 45, 100.0: 100, 7.4: 7}"
      ]
     },
     "execution_count": 131,
     "metadata": {},
     "output_type": "execute_result"
    }
   ],
   "source": [
    "d4"
   ]
  },
  {
   "cell_type": "code",
   "execution_count": 132,
   "id": "2ba14b02",
   "metadata": {},
   "outputs": [],
   "source": [
    "d5 = {True:1, False:0}"
   ]
  },
  {
   "cell_type": "code",
   "execution_count": 133,
   "id": "97030733",
   "metadata": {},
   "outputs": [
    {
     "data": {
      "text/plain": [
       "{True: 1, False: 0}"
      ]
     },
     "execution_count": 133,
     "metadata": {},
     "output_type": "execute_result"
    }
   ],
   "source": [
    "d5"
   ]
  },
  {
   "cell_type": "code",
   "execution_count": 134,
   "id": "98796545",
   "metadata": {},
   "outputs": [],
   "source": [
    "d6 = {1:True, 0: False}"
   ]
  },
  {
   "cell_type": "code",
   "execution_count": 135,
   "id": "c0e0756d",
   "metadata": {},
   "outputs": [
    {
     "data": {
      "text/plain": [
       "{1: True, 0: False}"
      ]
     },
     "execution_count": 135,
     "metadata": {},
     "output_type": "execute_result"
    }
   ],
   "source": [
    "d6"
   ]
  },
  {
   "cell_type": "code",
   "execution_count": 136,
   "id": "da02661d",
   "metadata": {},
   "outputs": [],
   "source": [
    "d7 = {(2+3j):3, (4-5j): -5}"
   ]
  },
  {
   "cell_type": "code",
   "execution_count": 137,
   "id": "893bf210",
   "metadata": {},
   "outputs": [
    {
     "data": {
      "text/plain": [
       "{(2+3j): 3, (4-5j): -5}"
      ]
     },
     "execution_count": 137,
     "metadata": {},
     "output_type": "execute_result"
    }
   ],
   "source": [
    "d7"
   ]
  },
  {
   "cell_type": "code",
   "execution_count": 138,
   "id": "d8d2acf7",
   "metadata": {},
   "outputs": [],
   "source": [
    "d8 = {'name': None, None: 100}"
   ]
  },
  {
   "cell_type": "code",
   "execution_count": 139,
   "id": "a6b2e1ed",
   "metadata": {},
   "outputs": [
    {
     "data": {
      "text/plain": [
       "{'name': None, None: 100}"
      ]
     },
     "execution_count": 139,
     "metadata": {},
     "output_type": "execute_result"
    }
   ],
   "source": [
    "d8"
   ]
  },
  {
   "cell_type": "code",
   "execution_count": 140,
   "id": "2036ecc7",
   "metadata": {},
   "outputs": [
    {
     "ename": "TypeError",
     "evalue": "unhashable type: 'list'",
     "output_type": "error",
     "traceback": [
      "\u001b[1;31m---------------------------------------------------------------------------\u001b[0m",
      "\u001b[1;31mTypeError\u001b[0m                                 Traceback (most recent call last)",
      "\u001b[1;32m~\\AppData\\Local\\Temp/ipykernel_4876/2865411581.py\u001b[0m in \u001b[0;36m<module>\u001b[1;34m\u001b[0m\n\u001b[1;32m----> 1\u001b[1;33m \u001b[0md9\u001b[0m \u001b[1;33m=\u001b[0m \u001b[1;33m{\u001b[0m\u001b[1;33m[\u001b[0m\u001b[1;36m1\u001b[0m\u001b[1;33m,\u001b[0m\u001b[1;36m2\u001b[0m\u001b[1;33m,\u001b[0m\u001b[1;36m3\u001b[0m\u001b[1;33m,\u001b[0m\u001b[1;36m4\u001b[0m\u001b[1;33m]\u001b[0m\u001b[1;33m:\u001b[0m \u001b[1;36m4\u001b[0m\u001b[1;33m,\u001b[0m \u001b[1;33m[\u001b[0m\u001b[1;36m1\u001b[0m\u001b[1;33m,\u001b[0m\u001b[1;36m2\u001b[0m\u001b[1;33m,\u001b[0m\u001b[1;36m3\u001b[0m\u001b[1;33m]\u001b[0m\u001b[1;33m:\u001b[0m \u001b[1;36m3\u001b[0m\u001b[1;33m}\u001b[0m\u001b[1;33m\u001b[0m\u001b[1;33m\u001b[0m\u001b[0m\n\u001b[0m",
      "\u001b[1;31mTypeError\u001b[0m: unhashable type: 'list'"
     ]
    }
   ],
   "source": [
    "d9 = {[1,2,3,4]: 4, [1,2,3]: 3}"
   ]
  },
  {
   "cell_type": "code",
   "execution_count": 141,
   "id": "33105904",
   "metadata": {},
   "outputs": [],
   "source": [
    "d9 = {(1,2,3,4): 4, (1,2,3): 3}"
   ]
  },
  {
   "cell_type": "code",
   "execution_count": 142,
   "id": "b887f28b",
   "metadata": {},
   "outputs": [
    {
     "data": {
      "text/plain": [
       "{(1, 2, 3, 4): 4, (1, 2, 3): 3}"
      ]
     },
     "execution_count": 142,
     "metadata": {},
     "output_type": "execute_result"
    }
   ],
   "source": [
    "d9"
   ]
  },
  {
   "cell_type": "code",
   "execution_count": 143,
   "id": "6ac06686",
   "metadata": {},
   "outputs": [
    {
     "ename": "TypeError",
     "evalue": "unhashable type: 'set'",
     "output_type": "error",
     "traceback": [
      "\u001b[1;31m---------------------------------------------------------------------------\u001b[0m",
      "\u001b[1;31mTypeError\u001b[0m                                 Traceback (most recent call last)",
      "\u001b[1;32m~\\AppData\\Local\\Temp/ipykernel_4876/3583512643.py\u001b[0m in \u001b[0;36m<module>\u001b[1;34m\u001b[0m\n\u001b[1;32m----> 1\u001b[1;33m \u001b[0md9\u001b[0m \u001b[1;33m=\u001b[0m \u001b[1;33m{\u001b[0m\u001b[1;33m{\u001b[0m\u001b[1;36m1\u001b[0m\u001b[1;33m,\u001b[0m\u001b[1;36m2\u001b[0m\u001b[1;33m,\u001b[0m\u001b[1;36m3\u001b[0m\u001b[1;33m,\u001b[0m\u001b[1;36m4\u001b[0m\u001b[1;33m}\u001b[0m\u001b[1;33m:\u001b[0m \u001b[1;36m4\u001b[0m\u001b[1;33m,\u001b[0m \u001b[1;33m{\u001b[0m\u001b[1;36m1\u001b[0m\u001b[1;33m,\u001b[0m\u001b[1;36m2\u001b[0m\u001b[1;33m,\u001b[0m\u001b[1;36m3\u001b[0m\u001b[1;33m}\u001b[0m\u001b[1;33m:\u001b[0m \u001b[1;36m3\u001b[0m\u001b[1;33m}\u001b[0m\u001b[1;33m\u001b[0m\u001b[1;33m\u001b[0m\u001b[0m\n\u001b[0m",
      "\u001b[1;31mTypeError\u001b[0m: unhashable type: 'set'"
     ]
    }
   ],
   "source": [
    "d9 = {{1,2,3,4}: 4, {1,2,3}: 3}"
   ]
  },
  {
   "cell_type": "code",
   "execution_count": 146,
   "id": "4fc2ecce",
   "metadata": {},
   "outputs": [],
   "source": [
    "# Key of a dictionary should be IMMUTABLE ONLY"
   ]
  },
  {
   "cell_type": "code",
   "execution_count": 145,
   "id": "29b91d81",
   "metadata": {},
   "outputs": [
    {
     "ename": "TypeError",
     "evalue": "unhashable type: 'dict'",
     "output_type": "error",
     "traceback": [
      "\u001b[1;31m---------------------------------------------------------------------------\u001b[0m",
      "\u001b[1;31mTypeError\u001b[0m                                 Traceback (most recent call last)",
      "\u001b[1;32m~\\AppData\\Local\\Temp/ipykernel_4876/3106101557.py\u001b[0m in \u001b[0;36m<module>\u001b[1;34m\u001b[0m\n\u001b[1;32m----> 1\u001b[1;33m \u001b[0md10\u001b[0m \u001b[1;33m=\u001b[0m \u001b[1;33m{\u001b[0m\u001b[1;33m{\u001b[0m\u001b[1;34m'a'\u001b[0m\u001b[1;33m:\u001b[0m \u001b[1;36m1\u001b[0m\u001b[1;33m,\u001b[0m \u001b[1;34m'b'\u001b[0m\u001b[1;33m:\u001b[0m \u001b[1;36m2\u001b[0m\u001b[1;33m}\u001b[0m\u001b[1;33m:\u001b[0m \u001b[1;33m[\u001b[0m\u001b[1;36m1\u001b[0m\u001b[1;33m,\u001b[0m\u001b[1;36m2\u001b[0m\u001b[1;33m]\u001b[0m\u001b[1;33m}\u001b[0m\u001b[1;33m\u001b[0m\u001b[1;33m\u001b[0m\u001b[0m\n\u001b[0m",
      "\u001b[1;31mTypeError\u001b[0m: unhashable type: 'dict'"
     ]
    }
   ],
   "source": [
    "d10 = {{'a': 1, 'b': 2}: [1,2]}"
   ]
  },
  {
   "cell_type": "code",
   "execution_count": 147,
   "id": "84cff01a",
   "metadata": {},
   "outputs": [],
   "source": [
    "# Keys CANNOT be Mutable"
   ]
  },
  {
   "cell_type": "code",
   "execution_count": 148,
   "id": "4d63ec3b",
   "metadata": {},
   "outputs": [],
   "source": [
    "# Values???"
   ]
  },
  {
   "cell_type": "code",
   "execution_count": 149,
   "id": "3b508f1f",
   "metadata": {},
   "outputs": [],
   "source": [
    "student3 = {'id': 101, 'name': 'John', 'marks': [80.5, 87.0, 78.5]}"
   ]
  },
  {
   "cell_type": "code",
   "execution_count": 150,
   "id": "38e3960d",
   "metadata": {},
   "outputs": [
    {
     "data": {
      "text/plain": [
       "{'id': 101, 'name': 'John', 'marks': [80.5, 87.0, 78.5]}"
      ]
     },
     "execution_count": 150,
     "metadata": {},
     "output_type": "execute_result"
    }
   ],
   "source": [
    "student3"
   ]
  },
  {
   "cell_type": "code",
   "execution_count": 152,
   "id": "1292befe",
   "metadata": {},
   "outputs": [
    {
     "data": {
      "text/plain": [
       "{1: 100, 'a': 20}"
      ]
     },
     "execution_count": 152,
     "metadata": {},
     "output_type": "execute_result"
    }
   ],
   "source": [
    "d2"
   ]
  },
  {
   "cell_type": "code",
   "execution_count": 154,
   "id": "fb091726",
   "metadata": {},
   "outputs": [],
   "source": [
    "# Fetch the marks of first subject from student3"
   ]
  },
  {
   "cell_type": "code",
   "execution_count": 155,
   "id": "6c898707",
   "metadata": {},
   "outputs": [
    {
     "data": {
      "text/plain": [
       "[80.5, 87.0, 78.5]"
      ]
     },
     "execution_count": 155,
     "metadata": {},
     "output_type": "execute_result"
    }
   ],
   "source": [
    "student3['marks']"
   ]
  },
  {
   "cell_type": "code",
   "execution_count": 156,
   "id": "5b176291",
   "metadata": {},
   "outputs": [
    {
     "data": {
      "text/plain": [
       "80.5"
      ]
     },
     "execution_count": 156,
     "metadata": {},
     "output_type": "execute_result"
    }
   ],
   "source": [
    "student3['marks'][0]"
   ]
  },
  {
   "cell_type": "code",
   "execution_count": 157,
   "id": "8d241b29",
   "metadata": {},
   "outputs": [
    {
     "data": {
      "text/plain": [
       "{'id': 101, 'name': 'John', 'marks': [80.5, 87.0, 78.5]}"
      ]
     },
     "execution_count": 157,
     "metadata": {},
     "output_type": "execute_result"
    }
   ],
   "source": [
    "student3"
   ]
  },
  {
   "cell_type": "code",
   "execution_count": 158,
   "id": "4f5ec352",
   "metadata": {},
   "outputs": [],
   "source": [
    "student3['marks'][1] = 87.5"
   ]
  },
  {
   "cell_type": "code",
   "execution_count": 159,
   "id": "acd2bda8",
   "metadata": {},
   "outputs": [
    {
     "data": {
      "text/plain": [
       "{'id': 101, 'name': 'John', 'marks': [80.5, 87.5, 78.5]}"
      ]
     },
     "execution_count": 159,
     "metadata": {},
     "output_type": "execute_result"
    }
   ],
   "source": [
    "student3"
   ]
  },
  {
   "cell_type": "code",
   "execution_count": 160,
   "id": "600f71ef",
   "metadata": {},
   "outputs": [],
   "source": [
    "student3 = {'id': 101, 'name': 'John', 'marks': {'maths': 80.5, 'accounts': 87.5, 'history': 78.5} }"
   ]
  },
  {
   "cell_type": "code",
   "execution_count": 161,
   "id": "4c584fcc",
   "metadata": {},
   "outputs": [
    {
     "name": "stdout",
     "output_type": "stream",
     "text": [
      "{'id': 101, 'name': 'John', 'marks': {'maths': 80.5, 'accounts': 87.5, 'history': 78.5}}\n"
     ]
    }
   ],
   "source": [
    "print(student3)"
   ]
  },
  {
   "cell_type": "code",
   "execution_count": 162,
   "id": "98cb5f5c",
   "metadata": {},
   "outputs": [
    {
     "data": {
      "text/plain": [
       "87.5"
      ]
     },
     "execution_count": 162,
     "metadata": {},
     "output_type": "execute_result"
    }
   ],
   "source": [
    "# fetch the marks of accounts of student 3\n",
    "student3['marks']['accounts']"
   ]
  },
  {
   "cell_type": "code",
   "execution_count": 163,
   "id": "5d29f34b",
   "metadata": {},
   "outputs": [],
   "source": [
    "# change the marks of history to 75.0 for student 3"
   ]
  },
  {
   "cell_type": "code",
   "execution_count": 164,
   "id": "db9542ca",
   "metadata": {},
   "outputs": [],
   "source": [
    "student3['marks']['history'] = 75.0"
   ]
  },
  {
   "cell_type": "code",
   "execution_count": 165,
   "id": "e96ed177",
   "metadata": {},
   "outputs": [
    {
     "data": {
      "text/plain": [
       "{'id': 101,\n",
       " 'name': 'John',\n",
       " 'marks': {'maths': 80.5, 'accounts': 87.5, 'history': 75.0}}"
      ]
     },
     "execution_count": 165,
     "metadata": {},
     "output_type": "execute_result"
    }
   ],
   "source": [
    "student3"
   ]
  },
  {
   "cell_type": "code",
   "execution_count": 166,
   "id": "b5a54749",
   "metadata": {},
   "outputs": [
    {
     "data": {
      "text/plain": [
       "dict_keys(['id', 'name', 'marks'])"
      ]
     },
     "execution_count": 166,
     "metadata": {},
     "output_type": "execute_result"
    }
   ],
   "source": [
    "student3.keys()"
   ]
  },
  {
   "cell_type": "code",
   "execution_count": 167,
   "id": "f73b1dc8",
   "metadata": {},
   "outputs": [
    {
     "data": {
      "text/plain": [
       "{'maths': 80.5, 'accounts': 87.5, 'history': 75.0}"
      ]
     },
     "execution_count": 167,
     "metadata": {},
     "output_type": "execute_result"
    }
   ],
   "source": [
    "student3['marks']"
   ]
  },
  {
   "cell_type": "code",
   "execution_count": 168,
   "id": "b386361c",
   "metadata": {},
   "outputs": [
    {
     "data": {
      "text/plain": [
       "dict_keys(['maths', 'accounts', 'history'])"
      ]
     },
     "execution_count": 168,
     "metadata": {},
     "output_type": "execute_result"
    }
   ],
   "source": [
    "student3['marks'].keys()"
   ]
  },
  {
   "cell_type": "code",
   "execution_count": 169,
   "id": "63a0c051",
   "metadata": {},
   "outputs": [],
   "source": [
    "m = student3['marks']"
   ]
  },
  {
   "cell_type": "code",
   "execution_count": 170,
   "id": "7a6a76ec",
   "metadata": {},
   "outputs": [
    {
     "data": {
      "text/plain": [
       "{'maths': 80.5, 'accounts': 87.5, 'history': 75.0}"
      ]
     },
     "execution_count": 170,
     "metadata": {},
     "output_type": "execute_result"
    }
   ],
   "source": [
    "m"
   ]
  },
  {
   "cell_type": "code",
   "execution_count": 171,
   "id": "5e263658",
   "metadata": {},
   "outputs": [
    {
     "data": {
      "text/plain": [
       "dict_keys(['maths', 'accounts', 'history'])"
      ]
     },
     "execution_count": 171,
     "metadata": {},
     "output_type": "execute_result"
    }
   ],
   "source": [
    "m.keys()"
   ]
  },
  {
   "cell_type": "code",
   "execution_count": 172,
   "id": "1cbb575f",
   "metadata": {},
   "outputs": [
    {
     "data": {
      "text/plain": [
       "[10, 2, 3, 4]"
      ]
     },
     "execution_count": 172,
     "metadata": {},
     "output_type": "execute_result"
    }
   ],
   "source": [
    "t1"
   ]
  },
  {
   "cell_type": "code",
   "execution_count": 173,
   "id": "c7faf0ff",
   "metadata": {},
   "outputs": [
    {
     "data": {
      "text/plain": [
       "(1, 20, 'Bye')"
      ]
     },
     "execution_count": 173,
     "metadata": {},
     "output_type": "execute_result"
    }
   ],
   "source": [
    "t2"
   ]
  },
  {
   "cell_type": "code",
   "execution_count": 174,
   "id": "4fc2334f",
   "metadata": {},
   "outputs": [],
   "source": [
    "l2 = list(t2)"
   ]
  },
  {
   "cell_type": "code",
   "execution_count": 175,
   "id": "1f7b17e4",
   "metadata": {},
   "outputs": [
    {
     "data": {
      "text/plain": [
       "(1, 20, 'Bye')"
      ]
     },
     "execution_count": 175,
     "metadata": {},
     "output_type": "execute_result"
    }
   ],
   "source": [
    "t2"
   ]
  },
  {
   "cell_type": "code",
   "execution_count": 176,
   "id": "2a8468c1",
   "metadata": {},
   "outputs": [
    {
     "data": {
      "text/plain": [
       "tuple"
      ]
     },
     "execution_count": 176,
     "metadata": {},
     "output_type": "execute_result"
    }
   ],
   "source": [
    "type(t2)"
   ]
  },
  {
   "cell_type": "code",
   "execution_count": 177,
   "id": "66a892dc",
   "metadata": {},
   "outputs": [
    {
     "data": {
      "text/plain": [
       "[1, 20, 'Bye']"
      ]
     },
     "execution_count": 177,
     "metadata": {},
     "output_type": "execute_result"
    }
   ],
   "source": [
    "l2"
   ]
  },
  {
   "cell_type": "code",
   "execution_count": 178,
   "id": "61a18ef5",
   "metadata": {},
   "outputs": [
    {
     "data": {
      "text/plain": [
       "1"
      ]
     },
     "execution_count": 178,
     "metadata": {},
     "output_type": "execute_result"
    }
   ],
   "source": [
    "t2[0]"
   ]
  },
  {
   "cell_type": "code",
   "execution_count": 179,
   "id": "51dd4e7e",
   "metadata": {},
   "outputs": [
    {
     "ename": "TypeError",
     "evalue": "'tuple' object does not support item assignment",
     "output_type": "error",
     "traceback": [
      "\u001b[1;31m---------------------------------------------------------------------------\u001b[0m",
      "\u001b[1;31mTypeError\u001b[0m                                 Traceback (most recent call last)",
      "\u001b[1;32m~\\AppData\\Local\\Temp/ipykernel_4876/2293710004.py\u001b[0m in \u001b[0;36m<module>\u001b[1;34m\u001b[0m\n\u001b[1;32m----> 1\u001b[1;33m \u001b[0mt2\u001b[0m\u001b[1;33m[\u001b[0m\u001b[1;36m0\u001b[0m\u001b[1;33m]\u001b[0m \u001b[1;33m=\u001b[0m \u001b[1;36m10\u001b[0m\u001b[1;33m\u001b[0m\u001b[1;33m\u001b[0m\u001b[0m\n\u001b[0m",
      "\u001b[1;31mTypeError\u001b[0m: 'tuple' object does not support item assignment"
     ]
    }
   ],
   "source": [
    "t2[0] = 10"
   ]
  },
  {
   "cell_type": "code",
   "execution_count": 180,
   "id": "5eca7027",
   "metadata": {},
   "outputs": [
    {
     "data": {
      "text/plain": [
       "(1, 20, 'Bye')"
      ]
     },
     "execution_count": 180,
     "metadata": {},
     "output_type": "execute_result"
    }
   ],
   "source": [
    "t2"
   ]
  },
  {
   "cell_type": "code",
   "execution_count": 181,
   "id": "4637b873",
   "metadata": {},
   "outputs": [
    {
     "data": {
      "text/plain": [
       "1868913099392"
      ]
     },
     "execution_count": 181,
     "metadata": {},
     "output_type": "execute_result"
    }
   ],
   "source": [
    "id(t2)"
   ]
  },
  {
   "cell_type": "code",
   "execution_count": 182,
   "id": "bfd313d3",
   "metadata": {},
   "outputs": [
    {
     "data": {
      "text/plain": [
       "[1, 20, 'Bye']"
      ]
     },
     "execution_count": 182,
     "metadata": {},
     "output_type": "execute_result"
    }
   ],
   "source": [
    "l2"
   ]
  },
  {
   "cell_type": "code",
   "execution_count": 183,
   "id": "66610843",
   "metadata": {},
   "outputs": [
    {
     "data": {
      "text/plain": [
       "1868914014272"
      ]
     },
     "execution_count": 183,
     "metadata": {},
     "output_type": "execute_result"
    }
   ],
   "source": [
    "id(l2)"
   ]
  },
  {
   "cell_type": "code",
   "execution_count": 184,
   "id": "927dc213",
   "metadata": {},
   "outputs": [],
   "source": [
    "l2[0] = 100"
   ]
  },
  {
   "cell_type": "code",
   "execution_count": 185,
   "id": "d306e955",
   "metadata": {},
   "outputs": [
    {
     "data": {
      "text/plain": [
       "[100, 20, 'Bye']"
      ]
     },
     "execution_count": 185,
     "metadata": {},
     "output_type": "execute_result"
    }
   ],
   "source": [
    "l2"
   ]
  },
  {
   "cell_type": "code",
   "execution_count": 186,
   "id": "bf3911e7",
   "metadata": {},
   "outputs": [
    {
     "data": {
      "text/plain": [
       "1868914014272"
      ]
     },
     "execution_count": 186,
     "metadata": {},
     "output_type": "execute_result"
    }
   ],
   "source": [
    "id(l2)"
   ]
  },
  {
   "cell_type": "code",
   "execution_count": 187,
   "id": "19e47aa9",
   "metadata": {},
   "outputs": [],
   "source": [
    "t2 = tuple(l2)"
   ]
  },
  {
   "cell_type": "code",
   "execution_count": 188,
   "id": "dcad5dec",
   "metadata": {},
   "outputs": [
    {
     "data": {
      "text/plain": [
       "(100, 20, 'Bye')"
      ]
     },
     "execution_count": 188,
     "metadata": {},
     "output_type": "execute_result"
    }
   ],
   "source": [
    "t2"
   ]
  },
  {
   "cell_type": "code",
   "execution_count": 189,
   "id": "51a578ac",
   "metadata": {},
   "outputs": [
    {
     "data": {
      "text/plain": [
       "1868916058944"
      ]
     },
     "execution_count": 189,
     "metadata": {},
     "output_type": "execute_result"
    }
   ],
   "source": [
    "id(t2)"
   ]
  },
  {
   "cell_type": "code",
   "execution_count": 191,
   "id": "216af09b",
   "metadata": {},
   "outputs": [
    {
     "data": {
      "text/plain": [
       "{'id': 101,\n",
       " 'name': 'John',\n",
       " 'marks': {'maths': 80.5, 'accounts': 87.5, 'history': 75.0}}"
      ]
     },
     "execution_count": 191,
     "metadata": {},
     "output_type": "execute_result"
    }
   ],
   "source": [
    "student3"
   ]
  },
  {
   "cell_type": "code",
   "execution_count": 192,
   "id": "ea8680c1",
   "metadata": {},
   "outputs": [
    {
     "data": {
      "text/plain": [
       "'John'"
      ]
     },
     "execution_count": 192,
     "metadata": {},
     "output_type": "execute_result"
    }
   ],
   "source": [
    "student3['name']"
   ]
  },
  {
   "cell_type": "code",
   "execution_count": 193,
   "id": "490060f5",
   "metadata": {},
   "outputs": [
    {
     "ename": "KeyError",
     "evalue": "'phone'",
     "output_type": "error",
     "traceback": [
      "\u001b[1;31m---------------------------------------------------------------------------\u001b[0m",
      "\u001b[1;31mKeyError\u001b[0m                                  Traceback (most recent call last)",
      "\u001b[1;32m~\\AppData\\Local\\Temp/ipykernel_4876/2869075102.py\u001b[0m in \u001b[0;36m<module>\u001b[1;34m\u001b[0m\n\u001b[1;32m----> 1\u001b[1;33m \u001b[0mstudent3\u001b[0m\u001b[1;33m[\u001b[0m\u001b[1;34m'phone'\u001b[0m\u001b[1;33m]\u001b[0m\u001b[1;33m\u001b[0m\u001b[1;33m\u001b[0m\u001b[0m\n\u001b[0m",
      "\u001b[1;31mKeyError\u001b[0m: 'phone'"
     ]
    }
   ],
   "source": [
    "student3['phone']"
   ]
  },
  {
   "cell_type": "code",
   "execution_count": 194,
   "id": "19afed77",
   "metadata": {},
   "outputs": [
    {
     "data": {
      "text/plain": [
       "{'id': 101,\n",
       " 'name': 'John',\n",
       " 'marks': {'maths': 80.5, 'accounts': 87.5, 'history': 75.0}}"
      ]
     },
     "execution_count": 194,
     "metadata": {},
     "output_type": "execute_result"
    }
   ],
   "source": [
    "student3"
   ]
  },
  {
   "cell_type": "code",
   "execution_count": 195,
   "id": "2e387289",
   "metadata": {},
   "outputs": [],
   "source": [
    "student3['phone'] = 9999"
   ]
  },
  {
   "cell_type": "code",
   "execution_count": 196,
   "id": "6466f8a5",
   "metadata": {},
   "outputs": [
    {
     "data": {
      "text/plain": [
       "{'id': 101,\n",
       " 'name': 'John',\n",
       " 'marks': {'maths': 80.5, 'accounts': 87.5, 'history': 75.0},\n",
       " 'phone': 9999}"
      ]
     },
     "execution_count": 196,
     "metadata": {},
     "output_type": "execute_result"
    }
   ],
   "source": [
    "student3"
   ]
  },
  {
   "cell_type": "code",
   "execution_count": 198,
   "id": "2af1911b",
   "metadata": {},
   "outputs": [],
   "source": [
    "tasks = {'task1': 'Create a dashboard', 'task2': 'Create a DB'}"
   ]
  },
  {
   "cell_type": "code",
   "execution_count": 199,
   "id": "18374da0",
   "metadata": {},
   "outputs": [],
   "source": [
    "del student3['phone']"
   ]
  },
  {
   "cell_type": "code",
   "execution_count": 200,
   "id": "3db70dae",
   "metadata": {},
   "outputs": [
    {
     "data": {
      "text/plain": [
       "{'id': 101,\n",
       " 'name': 'John',\n",
       " 'marks': {'maths': 80.5, 'accounts': 87.5, 'history': 75.0}}"
      ]
     },
     "execution_count": 200,
     "metadata": {},
     "output_type": "execute_result"
    }
   ],
   "source": [
    "student3"
   ]
  },
  {
   "cell_type": "code",
   "execution_count": 201,
   "id": "f852b2e0",
   "metadata": {},
   "outputs": [],
   "source": [
    "student3['phone number'] = 9999"
   ]
  },
  {
   "cell_type": "code",
   "execution_count": 202,
   "id": "f825206d",
   "metadata": {},
   "outputs": [
    {
     "data": {
      "text/plain": [
       "{'id': 101,\n",
       " 'name': 'John',\n",
       " 'marks': {'maths': 80.5, 'accounts': 87.5, 'history': 75.0},\n",
       " 'phone number': 9999}"
      ]
     },
     "execution_count": 202,
     "metadata": {},
     "output_type": "execute_result"
    }
   ],
   "source": [
    "student3"
   ]
  },
  {
   "cell_type": "code",
   "execution_count": null,
   "id": "33cad1cb",
   "metadata": {},
   "outputs": [],
   "source": []
  },
  {
   "cell_type": "code",
   "execution_count": 203,
   "id": "2a826853",
   "metadata": {},
   "outputs": [],
   "source": [
    "# Mutable - list, set, dict\n",
    "# Immutable - str, int, float, complex, tuple, None, bool"
   ]
  },
  {
   "cell_type": "code",
   "execution_count": null,
   "id": "90bf00f8",
   "metadata": {},
   "outputs": [],
   "source": []
  },
  {
   "cell_type": "code",
   "execution_count": 205,
   "id": "63b59a34",
   "metadata": {},
   "outputs": [],
   "source": [
    "# Object reusability in Python"
   ]
  },
  {
   "cell_type": "code",
   "execution_count": 206,
   "id": "e8bab1ec",
   "metadata": {},
   "outputs": [],
   "source": [
    "a = 1000"
   ]
  },
  {
   "cell_type": "code",
   "execution_count": 207,
   "id": "77d6dffe",
   "metadata": {},
   "outputs": [],
   "source": [
    "b = 1000"
   ]
  },
  {
   "cell_type": "code",
   "execution_count": 208,
   "id": "46574894",
   "metadata": {},
   "outputs": [
    {
     "data": {
      "text/plain": [
       "1868917056048"
      ]
     },
     "execution_count": 208,
     "metadata": {},
     "output_type": "execute_result"
    }
   ],
   "source": [
    "id(a)"
   ]
  },
  {
   "cell_type": "code",
   "execution_count": 209,
   "id": "2eac6f5b",
   "metadata": {},
   "outputs": [
    {
     "data": {
      "text/plain": [
       "1868917055760"
      ]
     },
     "execution_count": 209,
     "metadata": {},
     "output_type": "execute_result"
    }
   ],
   "source": [
    "id(b)"
   ]
  },
  {
   "cell_type": "code",
   "execution_count": 212,
   "id": "8d405579",
   "metadata": {},
   "outputs": [],
   "source": [
    "x = 500"
   ]
  },
  {
   "cell_type": "code",
   "execution_count": 213,
   "id": "c2ecf76f",
   "metadata": {},
   "outputs": [],
   "source": [
    "y = 500"
   ]
  },
  {
   "cell_type": "code",
   "execution_count": 214,
   "id": "66f30052",
   "metadata": {},
   "outputs": [
    {
     "data": {
      "text/plain": [
       "1868917055792"
      ]
     },
     "execution_count": 214,
     "metadata": {},
     "output_type": "execute_result"
    }
   ],
   "source": [
    "id(x)"
   ]
  },
  {
   "cell_type": "code",
   "execution_count": 215,
   "id": "0c64819b",
   "metadata": {},
   "outputs": [
    {
     "data": {
      "text/plain": [
       "1868917056464"
      ]
     },
     "execution_count": 215,
     "metadata": {},
     "output_type": "execute_result"
    }
   ],
   "source": [
    "id(y)"
   ]
  },
  {
   "cell_type": "code",
   "execution_count": 216,
   "id": "31ba8241",
   "metadata": {},
   "outputs": [],
   "source": [
    "x = 100"
   ]
  },
  {
   "cell_type": "code",
   "execution_count": 217,
   "id": "a1ae84d1",
   "metadata": {},
   "outputs": [],
   "source": [
    "y = 100"
   ]
  },
  {
   "cell_type": "code",
   "execution_count": 218,
   "id": "dbc8862a",
   "metadata": {},
   "outputs": [
    {
     "data": {
      "text/plain": [
       "1868796810704"
      ]
     },
     "execution_count": 218,
     "metadata": {},
     "output_type": "execute_result"
    }
   ],
   "source": [
    "id(x)"
   ]
  },
  {
   "cell_type": "code",
   "execution_count": 219,
   "id": "d558a843",
   "metadata": {},
   "outputs": [
    {
     "data": {
      "text/plain": [
       "1868796810704"
      ]
     },
     "execution_count": 219,
     "metadata": {},
     "output_type": "execute_result"
    }
   ],
   "source": [
    "id(y)"
   ]
  },
  {
   "cell_type": "code",
   "execution_count": 220,
   "id": "73dcd3de",
   "metadata": {},
   "outputs": [],
   "source": [
    "# To optimize the memory, few values in Python are re-used!!!"
   ]
  },
  {
   "cell_type": "code",
   "execution_count": 221,
   "id": "dfa3b09b",
   "metadata": {},
   "outputs": [],
   "source": [
    "# Interning - reusing the objects instead of creating new ones"
   ]
  },
  {
   "cell_type": "code",
   "execution_count": 222,
   "id": "a26c45ed",
   "metadata": {},
   "outputs": [],
   "source": [
    "# Interning in integers\n",
    "\n",
    "# Python pre-loads a list of integers in the memory in the range -5 to 256 (both included)\n",
    "# When we create an integer with a value between the above range, Python re-uses the existing\n",
    "# value, instead of creating a new integer at a different memory location"
   ]
  },
  {
   "cell_type": "code",
   "execution_count": null,
   "id": "7f04c3f4",
   "metadata": {},
   "outputs": [],
   "source": []
  },
  {
   "cell_type": "code",
   "execution_count": 223,
   "id": "b7f90c2c",
   "metadata": {},
   "outputs": [],
   "source": [
    "x3 = 1000\n",
    "x4 = 1000"
   ]
  },
  {
   "cell_type": "code",
   "execution_count": 224,
   "id": "1f6e4543",
   "metadata": {},
   "outputs": [
    {
     "name": "stdout",
     "output_type": "stream",
     "text": [
      "1868917057040\n"
     ]
    },
    {
     "data": {
      "text/plain": [
       "1868917056752"
      ]
     },
     "execution_count": 224,
     "metadata": {},
     "output_type": "execute_result"
    }
   ],
   "source": [
    "print(id(x3))\n",
    "id(x4)"
   ]
  },
  {
   "cell_type": "code",
   "execution_count": 225,
   "id": "eb920f38",
   "metadata": {},
   "outputs": [
    {
     "data": {
      "text/plain": [
       "1868796810704"
      ]
     },
     "execution_count": 225,
     "metadata": {},
     "output_type": "execute_result"
    }
   ],
   "source": [
    "id(100)"
   ]
  },
  {
   "cell_type": "code",
   "execution_count": 226,
   "id": "35f5387d",
   "metadata": {},
   "outputs": [
    {
     "data": {
      "text/plain": [
       "1868796810704"
      ]
     },
     "execution_count": 226,
     "metadata": {},
     "output_type": "execute_result"
    }
   ],
   "source": [
    "id(x)"
   ]
  },
  {
   "cell_type": "code",
   "execution_count": 227,
   "id": "58b250b6",
   "metadata": {},
   "outputs": [
    {
     "data": {
      "text/plain": [
       "1868796810704"
      ]
     },
     "execution_count": 227,
     "metadata": {},
     "output_type": "execute_result"
    }
   ],
   "source": [
    "id(y)"
   ]
  },
  {
   "cell_type": "code",
   "execution_count": 228,
   "id": "5c8e0b11",
   "metadata": {},
   "outputs": [],
   "source": [
    "x1 = 1"
   ]
  },
  {
   "cell_type": "code",
   "execution_count": 229,
   "id": "5b76c46b",
   "metadata": {},
   "outputs": [],
   "source": [
    "x2 = True"
   ]
  },
  {
   "cell_type": "code",
   "execution_count": 230,
   "id": "4b32e1cb",
   "metadata": {},
   "outputs": [
    {
     "data": {
      "text/plain": [
       "1868796619056"
      ]
     },
     "execution_count": 230,
     "metadata": {},
     "output_type": "execute_result"
    }
   ],
   "source": [
    "id(x1)"
   ]
  },
  {
   "cell_type": "code",
   "execution_count": 231,
   "id": "08b594c2",
   "metadata": {},
   "outputs": [
    {
     "data": {
      "text/plain": [
       "140709666314344"
      ]
     },
     "execution_count": 231,
     "metadata": {},
     "output_type": "execute_result"
    }
   ],
   "source": [
    "id(x2)"
   ]
  },
  {
   "cell_type": "code",
   "execution_count": null,
   "id": "83cf398c",
   "metadata": {},
   "outputs": [],
   "source": []
  },
  {
   "cell_type": "code",
   "execution_count": 232,
   "id": "3ad562e0",
   "metadata": {},
   "outputs": [],
   "source": [
    "# Interning in strings"
   ]
  },
  {
   "cell_type": "code",
   "execution_count": 233,
   "id": "07679e7a",
   "metadata": {},
   "outputs": [],
   "source": [
    "s1 = \"Hello World\"\n",
    "s2 = \"Hello World\""
   ]
  },
  {
   "cell_type": "code",
   "execution_count": 234,
   "id": "4d78b680",
   "metadata": {},
   "outputs": [
    {
     "data": {
      "text/plain": [
       "1868916674992"
      ]
     },
     "execution_count": 234,
     "metadata": {},
     "output_type": "execute_result"
    }
   ],
   "source": [
    "id(s1)"
   ]
  },
  {
   "cell_type": "code",
   "execution_count": 235,
   "id": "1015015d",
   "metadata": {},
   "outputs": [
    {
     "data": {
      "text/plain": [
       "1868916677872"
      ]
     },
     "execution_count": 235,
     "metadata": {},
     "output_type": "execute_result"
    }
   ],
   "source": [
    "id(s2)"
   ]
  },
  {
   "cell_type": "code",
   "execution_count": 236,
   "id": "827dea03",
   "metadata": {},
   "outputs": [
    {
     "name": "stdout",
     "output_type": "stream",
     "text": [
      "1868916260592\n",
      "1868916260592\n"
     ]
    }
   ],
   "source": [
    "s1 = \"Hello\"\n",
    "s2 = \"Hello\"\n",
    "print(id(s1))\n",
    "print(id(s2))"
   ]
  },
  {
   "cell_type": "code",
   "execution_count": 237,
   "id": "b4f5b180",
   "metadata": {},
   "outputs": [
    {
     "name": "stdout",
     "output_type": "stream",
     "text": [
      "1868914959792\n",
      "1868914959792\n"
     ]
    }
   ],
   "source": [
    "s1 = \"nmhbbhjgvhgvhvhgvhgcgfhcgfcgfcgfchgvjkhbkjnbkjbcjvkhbfjvhbfjhvbjhvbhjvb\"\n",
    "s2 = \"nmhbbhjgvhgvhvhgvhgcgfhcgfcgfcgfchgvjkhbkjnbkjbcjvkhbfjvhbfjhvbjhvbhjvb\"\n",
    "print(id(s1))\n",
    "print(id(s2))"
   ]
  },
  {
   "cell_type": "code",
   "execution_count": 238,
   "id": "7572c310",
   "metadata": {},
   "outputs": [
    {
     "name": "stdout",
     "output_type": "stream",
     "text": [
      "1868916628400\n",
      "1868916628400\n"
     ]
    }
   ],
   "source": [
    "s1 = \"Hello_World\"\n",
    "s2 = \"Hello_World\"\n",
    "print(id(s1))\n",
    "print(id(s2))"
   ]
  },
  {
   "cell_type": "code",
   "execution_count": 239,
   "id": "1a250099",
   "metadata": {},
   "outputs": [
    {
     "name": "stdout",
     "output_type": "stream",
     "text": [
      "1868916677872\n",
      "1868916675056\n"
     ]
    }
   ],
   "source": [
    "s1 = \"Hello&World\"\n",
    "s2 = \"Hello&World\"\n",
    "print(id(s1))\n",
    "print(id(s2))"
   ]
  },
  {
   "cell_type": "code",
   "execution_count": 240,
   "id": "8250e081",
   "metadata": {},
   "outputs": [
    {
     "name": "stdout",
     "output_type": "stream",
     "text": [
      "1868916628400\n",
      "1868916629296\n"
     ]
    }
   ],
   "source": [
    "s1 = \"Hello-World\"\n",
    "s2 = \"Hello-World\"\n",
    "print(id(s1))\n",
    "print(id(s2))"
   ]
  },
  {
   "cell_type": "code",
   "execution_count": 241,
   "id": "3a00ad5b",
   "metadata": {},
   "outputs": [
    {
     "name": "stdout",
     "output_type": "stream",
     "text": [
      "1868916614832\n",
      "1868916696304\n"
     ]
    }
   ],
   "source": [
    "s1 = \"Hello@World\"\n",
    "s2 = \"Hello@World\"\n",
    "print(id(s1))\n",
    "print(id(s2))"
   ]
  },
  {
   "cell_type": "code",
   "execution_count": 242,
   "id": "69114143",
   "metadata": {},
   "outputs": [
    {
     "name": "stdout",
     "output_type": "stream",
     "text": [
      "1868916616176\n",
      "1868916616176\n"
     ]
    }
   ],
   "source": [
    "s1 = \"HelloWorld1\"\n",
    "s2 = \"HelloWorld1\"\n",
    "print(id(s1))\n",
    "print(id(s2))"
   ]
  },
  {
   "cell_type": "code",
   "execution_count": 243,
   "id": "c9a4ce15",
   "metadata": {},
   "outputs": [],
   "source": [
    "# Any string that satisfies the rule of Identifier seems to be interned/reused"
   ]
  },
  {
   "cell_type": "code",
   "execution_count": 244,
   "id": "9d45db8b",
   "metadata": {},
   "outputs": [
    {
     "name": "stdout",
     "output_type": "stream",
     "text": [
      "1868916613168\n",
      "1868916613168\n"
     ]
    }
   ],
   "source": [
    "s1 = \"1hello\"\n",
    "s2 = \"1hello\"\n",
    "print(id(s1))\n",
    "print(id(s2))"
   ]
  },
  {
   "cell_type": "code",
   "execution_count": 245,
   "id": "2c476b59",
   "metadata": {},
   "outputs": [
    {
     "name": "stdout",
     "output_type": "stream",
     "text": [
      "1868868712048\n",
      "1868868712048\n"
     ]
    }
   ],
   "source": [
    "s1 = \"11\"\n",
    "s2 = \"11\"\n",
    "print(id(s1))\n",
    "print(id(s2))"
   ]
  },
  {
   "cell_type": "code",
   "execution_count": null,
   "id": "2f61b6b1",
   "metadata": {},
   "outputs": [],
   "source": []
  },
  {
   "cell_type": "code",
   "execution_count": 246,
   "id": "608095c5",
   "metadata": {},
   "outputs": [],
   "source": [
    "# Interning in Boolean"
   ]
  },
  {
   "cell_type": "code",
   "execution_count": 247,
   "id": "262f7fe6",
   "metadata": {},
   "outputs": [
    {
     "name": "stdout",
     "output_type": "stream",
     "text": [
      "140709666314344\n",
      "140709666314344\n"
     ]
    }
   ],
   "source": [
    "var1 = True\n",
    "var2 = True\n",
    "print(id(var1))\n",
    "print(id(var2))"
   ]
  },
  {
   "cell_type": "code",
   "execution_count": 248,
   "id": "e0d3fa30",
   "metadata": {},
   "outputs": [
    {
     "name": "stdout",
     "output_type": "stream",
     "text": [
      "140709666314376\n",
      "140709666314376\n"
     ]
    }
   ],
   "source": [
    "var1 = False\n",
    "var2 = False\n",
    "print(id(var1))\n",
    "print(id(var2))"
   ]
  },
  {
   "cell_type": "code",
   "execution_count": 249,
   "id": "dc5ad5f6",
   "metadata": {},
   "outputs": [
    {
     "name": "stdout",
     "output_type": "stream",
     "text": [
      "140709666364632\n",
      "140709666364632\n"
     ]
    }
   ],
   "source": [
    "var1 = None\n",
    "var2 = None\n",
    "print(id(var1))\n",
    "print(id(var2))"
   ]
  },
  {
   "cell_type": "code",
   "execution_count": 250,
   "id": "0289867a",
   "metadata": {},
   "outputs": [],
   "source": [
    "# No other value is reused!!!"
   ]
  },
  {
   "cell_type": "code",
   "execution_count": 251,
   "id": "f1287498",
   "metadata": {},
   "outputs": [
    {
     "name": "stdout",
     "output_type": "stream",
     "text": [
      "1868917058608\n",
      "1868917058832\n"
     ]
    }
   ],
   "source": [
    "var1 = 10.5\n",
    "var2 = 10.5\n",
    "print(id(var1))\n",
    "print(id(var2))"
   ]
  },
  {
   "cell_type": "code",
   "execution_count": 252,
   "id": "861b41a8",
   "metadata": {},
   "outputs": [
    {
     "name": "stdout",
     "output_type": "stream",
     "text": [
      "1868917057520\n",
      "1868917059056\n"
     ]
    }
   ],
   "source": [
    "var1 = 10.51\n",
    "var2 = 10.51\n",
    "print(id(var1))\n",
    "print(id(var2))"
   ]
  },
  {
   "cell_type": "code",
   "execution_count": 253,
   "id": "9a0ea875",
   "metadata": {},
   "outputs": [
    {
     "name": "stdout",
     "output_type": "stream",
     "text": [
      "1868916586096\n",
      "1868916674288\n"
     ]
    }
   ],
   "source": [
    "var1 = \"10.51\"\n",
    "var2 = \"10.51\"\n",
    "print(id(var1))\n",
    "print(id(var2))"
   ]
  },
  {
   "cell_type": "code",
   "execution_count": 254,
   "id": "8a44e5b7",
   "metadata": {},
   "outputs": [
    {
     "name": "stdout",
     "output_type": "stream",
     "text": [
      "1868916602352\n",
      "1868916602352\n"
     ]
    }
   ],
   "source": [
    "var1 = \"1051\"\n",
    "var2 = \"1051\"\n",
    "print(id(var1))\n",
    "print(id(var2))"
   ]
  },
  {
   "cell_type": "code",
   "execution_count": null,
   "id": "d72e586c",
   "metadata": {},
   "outputs": [],
   "source": []
  }
 ],
 "metadata": {
  "kernelspec": {
   "display_name": "Python 3 (ipykernel)",
   "language": "python",
   "name": "python3"
  },
  "language_info": {
   "codemirror_mode": {
    "name": "ipython",
    "version": 3
   },
   "file_extension": ".py",
   "mimetype": "text/x-python",
   "name": "python",
   "nbconvert_exporter": "python",
   "pygments_lexer": "ipython3",
   "version": "3.9.7"
  }
 },
 "nbformat": 4,
 "nbformat_minor": 5
}
